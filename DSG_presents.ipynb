{
 "cells": [
  {
   "cell_type": "markdown",
   "metadata": {
    "slideshow": {
     "slide_type": "slide"
    }
   },
   "source": [
    "\n",
    "<h2><center><font color='black'>   Keeping up with the Deep-Learning Curve via Keras </font></center></h2>\n",
    "\n",
    "<img src='imgs/front_3.png' align='middle'/>"
   ]
  },
  {
   "cell_type": "markdown",
   "metadata": {
    "slideshow": {
     "slide_type": "slide"
    }
   },
   "source": [
    "<img src='imgs/neuron_test.png' align='middle'/>"
   ]
  },
  {
   "cell_type": "markdown",
   "metadata": {
    "slideshow": {
     "slide_type": "slide"
    }
   },
   "source": [
    "<img src='imgs/neural_score.png' align='middle'/>"
   ]
  },
  {
   "cell_type": "markdown",
   "metadata": {
    "slideshow": {
     "slide_type": "slide"
    }
   },
   "source": [
    "\n",
    "<img src='imgs/lin_class.png'/>"
   ]
  },
  {
   "cell_type": "markdown",
   "metadata": {
    "slideshow": {
     "slide_type": "slide"
    }
   },
   "source": [
    "<img src='imgs/softmax.png'/>"
   ]
  },
  {
   "cell_type": "markdown",
   "metadata": {
    "slideshow": {
     "slide_type": "slide"
    }
   },
   "source": [
    "<img src='imgs/linear_2.png'/>"
   ]
  },
  {
   "cell_type": "markdown",
   "metadata": {
    "slideshow": {
     "slide_type": "slide"
    }
   },
   "source": [
    "<img src='imgs/mnist_wt.png' align='middle'/>"
   ]
  },
  {
   "cell_type": "markdown",
   "metadata": {
    "slideshow": {
     "slide_type": "slide"
    }
   },
   "source": [
    "<h4><center><font color='#F87217'>  XOR Example </font></center></h4>\n",
    "<img src='imgs/xor_test.png' align='middle'/>"
   ]
  },
  {
   "cell_type": "markdown",
   "metadata": {
    "slideshow": {
     "slide_type": "slide"
    }
   },
   "source": [
    "<h4><center><font color='#F87217'>  XOR Transformed </font></center></h4>\n",
    "<img src='imgs/xor_trans.png'/>"
   ]
  },
  {
   "cell_type": "markdown",
   "metadata": {
    "slideshow": {
     "slide_type": "slide"
    }
   },
   "source": [
    "<h4><center><font color='#F87217'>Convex Cost Function </font></center></h4>\n",
    "\n",
    "<img src='imgs/convex_new1.png'/>"
   ]
  },
  {
   "cell_type": "markdown",
   "metadata": {
    "slideshow": {
     "slide_type": "slide"
    }
   },
   "source": [
    "<h4><center><font color='#F87217'>Non-Convex Cost Function </font></center></h4>\n",
    "\n",
    "<img src='imgs/non_convex.png'/>"
   ]
  },
  {
   "cell_type": "markdown",
   "metadata": {
    "collapsed": true,
    "slideshow": {
     "slide_type": "slide"
    }
   },
   "source": [
    "\n",
    "<img src='imgs/backprop_clean.png'/>"
   ]
  },
  {
   "cell_type": "markdown",
   "metadata": {
    "slideshow": {
     "slide_type": "slide"
    }
   },
   "source": [
    "<img src='imgs/cnn_1.png'/>"
   ]
  },
  {
   "cell_type": "markdown",
   "metadata": {
    "slideshow": {
     "slide_type": "slide"
    }
   },
   "source": [
    "<img src='imgs/cnn_3.png'/>"
   ]
  },
  {
   "cell_type": "markdown",
   "metadata": {
    "collapsed": true,
    "slideshow": {
     "slide_type": "slide"
    }
   },
   "source": [
    "<h4><center><font color='#F87217'>AlexNet </font></center></h4>\n",
    "\n",
    "<img src='imgs/alex3.png'/>"
   ]
  },
  {
   "cell_type": "markdown",
   "metadata": {
    "collapsed": true,
    "slideshow": {
     "slide_type": "slide"
    }
   },
   "source": [
    "<h4><center><font color='#F87217'> Convolutional Layer </font></center></h4>\n",
    "\n",
    "<img src='imgs/3D_Convolution_Animation.gif'/>"
   ]
  },
  {
   "cell_type": "markdown",
   "metadata": {
    "slideshow": {
     "slide_type": "slide"
    }
   },
   "source": [
    "<h4><center><font color='#F87217'>Our 96 Filters </font></center></h4>\n",
    "<img src='imgs/gabor1.png'/>"
   ]
  },
  {
   "cell_type": "markdown",
   "metadata": {
    "slideshow": {
     "slide_type": "slide"
    }
   },
   "source": [
    "<h4><center><font color='#F87217'> Max-Pooling Layer </font></center></h4>\n",
    "<img src='imgs/max_pool.png'/>\n"
   ]
  },
  {
   "cell_type": "markdown",
   "metadata": {
    "slideshow": {
     "slide_type": "slide"
    }
   },
   "source": [
    "<h4><center><font color='#F87217'>Final Layers  </font></center></h4>\n",
    "<img src='imgs/more_filters.png'/>\n",
    "\n",
    "Credits: [Yosinski](http://yosinski.com)\n",
    "\n",
    "\n"
   ]
  },
  {
   "cell_type": "markdown",
   "metadata": {
    "slideshow": {
     "slide_type": "slide"
    }
   },
   "source": [
    "<h1><center><font color='#F87217'> KERAS  </font></center></h1>\n",
    "\n",
    "<h4><center><font color='black'> High-Level Deep Learning Library for Theano & Tensorflow  </font></center></h4>\n",
    " \n"
   ]
  },
  {
   "cell_type": "markdown",
   "metadata": {
    "slideshow": {
     "slide_type": "slide"
    }
   },
   "source": [
    "Keras was developed to allow for fast and easy deep-learning prototyping through the use of: \n",
    "  - user friendliness\n"
   ]
  },
  {
   "cell_type": "markdown",
   "metadata": {
    "slideshow": {
     "slide_type": "subslide"
    }
   },
   "source": [
    "Keras was developed to allow for fast and easy deep-learning prototyping through the use of: \n",
    " - user-friendliness\n",
    " - modularity\n",
    " "
   ]
  },
  {
   "cell_type": "markdown",
   "metadata": {
    "slideshow": {
     "slide_type": "subslide"
    }
   },
   "source": [
    "Keras was developed to allow for fast deep-learning prototyping through the use of: \n",
    " - user-friendliness\n",
    " - modularity\n",
    " - extensibility\n",
    " "
   ]
  },
  {
   "cell_type": "code",
   "execution_count": 1,
   "metadata": {
    "slideshow": {
     "slide_type": "slide"
    }
   },
   "outputs": [
    {
     "name": "stderr",
     "output_type": "stream",
     "text": [
      "Using Theano backend.\n"
     ]
    }
   ],
   "source": [
    "import keras\n",
    "import keras.backend as K\n",
    "from keras.models import Sequential\n",
    "from keras.layers import Dense, Activation, ZeroPadding2D, Convolution2D, MaxPooling2D, Flatten, Dropout, LSTM\n",
    "from keras.layers import Embedding, Input \n",
    "from keras.optimizers import SGD, RMSprop, Adam\n",
    "from keras.utils.visualize_util import model_to_dot, plot\n",
    "\n",
    "from IPython.display import SVG\n",
    "import matplotlib.pyplot as plt\n",
    "import pandas as pd\n",
    "import numpy as np\n",
    "import cv2\n",
    "import sys\n",
    "\n",
    "import seaborn as sns\n",
    "%matplotlib inline"
   ]
  },
  {
   "cell_type": "code",
   "execution_count": 3,
   "metadata": {
    "collapsed": true,
    "slideshow": {
     "slide_type": "fragment"
    }
   },
   "outputs": [],
   "source": [
    "sns.set_style('white')\n",
    "\n",
    "\n",
    "from sklearn import datasets\n",
    "iris=datasets.load_iris()\n",
    "X=iris.data\n",
    "y=iris.target\n",
    "\n",
    "data=pd.DataFrame(X)\n",
    "data['target']=y\n"
   ]
  },
  {
   "cell_type": "code",
   "execution_count": 4,
   "metadata": {
    "collapsed": true,
    "slideshow": {
     "slide_type": "skip"
    }
   },
   "outputs": [],
   "source": [
    "data['name']=data.target.astype('str').replace({'0':'setosa','1':'versicolor','2':'virginica'})"
   ]
  },
  {
   "cell_type": "code",
   "execution_count": 5,
   "metadata": {
    "slideshow": {
     "slide_type": "skip"
    }
   },
   "outputs": [
    {
     "data": {
      "text/plain": [
       "<matplotlib.figure.Figure at 0x10fdeb890>"
      ]
     },
     "metadata": {},
     "output_type": "display_data"
    },
    {
     "data": {
      "image/png": "[encoded data removed]",
      "text/plain": [
       "<matplotlib.figure.Figure at 0x10fdebcd0>"
      ]
     },
     "metadata": {},
     "output_type": "display_data"
    }
   ],
   "source": [
    "#ax=subplot(1,1,1)\n",
    "\n",
    "#plt.scatter(data[0],data[1], c=data.target)\n",
    "plt.figure(figsize=(10,7))\n",
    "ax=data.plot(kind='scatter',x=0,y=1,c='target',legend=False,figsize=(12,8))\n",
    "plt.xlabel('sepal length')\n",
    "plt.ylabel('sepal width')\n",
    "plt.title('Iris Data')\n",
    "plt.show()"
   ]
  },
  {
   "cell_type": "code",
   "execution_count": 6,
   "metadata": {
    "collapsed": true,
    "slideshow": {
     "slide_type": "slide"
    }
   },
   "outputs": [],
   "source": [
    "#  Define our first Model.. \n",
    "\n",
    "model=Sequential()\n",
    "# output will be number of classes, and input will be # of features\n",
    "model.add(Dense(output_dim=3,input_dim=4))\n",
    "model.add(Activation(\"softmax\"))"
   ]
  },
  {
   "cell_type": "code",
   "execution_count": 7,
   "metadata": {
    "slideshow": {
     "slide_type": "fragment"
    }
   },
   "outputs": [
    {
     "data": {
      "image/svg+xml": [
       "<svg height=\"215pt\" viewBox=\"0.00 0.00 300.56 215.00\" width=\"301pt\" xmlns=\"http://www.w3.org/2000/svg\" xmlns:xlink=\"http://www.w3.org/1999/xlink\">\n",
       "<g class=\"graph\" id=\"graph0\" transform=\"scale(1 1) rotate(0) translate(4 211)\">\n",
       "<title>G</title>\n",
       "<polygon fill=\"white\" points=\"-4,4 -4,-211 296.556,-211 296.556,4 -4,4\" stroke=\"none\"/>\n",
       "<!-- 4572592592 -->\n",
       "<g class=\"node\" id=\"node1\"><title>4572592592</title>\n",
       "<polygon fill=\"none\" points=\"0,-162.5 0,-206.5 292.556,-206.5 292.556,-162.5 0,-162.5\" stroke=\"black\"/>\n",
       "<text font-family=\"Times,serif\" font-size=\"14.00\" text-anchor=\"middle\" x=\"83.6191\" y=\"-180.3\">dense_input_1: InputLayer</text>\n",
       "<polyline fill=\"none\" points=\"167.238,-162.5 167.238,-206.5 \" stroke=\"black\"/>\n",
       "<text font-family=\"Times,serif\" font-size=\"14.00\" text-anchor=\"middle\" x=\"195.073\" y=\"-191.3\">input:</text>\n",
       "<polyline fill=\"none\" points=\"167.238,-184.5 222.907,-184.5 \" stroke=\"black\"/>\n",
       "<text font-family=\"Times,serif\" font-size=\"14.00\" text-anchor=\"middle\" x=\"195.073\" y=\"-169.3\">output:</text>\n",
       "<polyline fill=\"none\" points=\"222.907,-162.5 222.907,-206.5 \" stroke=\"black\"/>\n",
       "<text font-family=\"Times,serif\" font-size=\"14.00\" text-anchor=\"middle\" x=\"257.731\" y=\"-191.3\">(None, 4)</text>\n",
       "<polyline fill=\"none\" points=\"222.907,-184.5 292.556,-184.5 \" stroke=\"black\"/>\n",
       "<text font-family=\"Times,serif\" font-size=\"14.00\" text-anchor=\"middle\" x=\"257.731\" y=\"-169.3\">(None, 4)</text>\n",
       "</g>\n",
       "<!-- 4572594064 -->\n",
       "<g class=\"node\" id=\"node2\"><title>4572594064</title>\n",
       "<polygon fill=\"none\" points=\"31.4932,-81.5 31.4932,-125.5 261.062,-125.5 261.062,-81.5 31.4932,-81.5\" stroke=\"black\"/>\n",
       "<text font-family=\"Times,serif\" font-size=\"14.00\" text-anchor=\"middle\" x=\"83.6191\" y=\"-99.3\">dense_1: Dense</text>\n",
       "<polyline fill=\"none\" points=\"135.745,-81.5 135.745,-125.5 \" stroke=\"black\"/>\n",
       "<text font-family=\"Times,serif\" font-size=\"14.00\" text-anchor=\"middle\" x=\"163.58\" y=\"-110.3\">input:</text>\n",
       "<polyline fill=\"none\" points=\"135.745,-103.5 191.414,-103.5 \" stroke=\"black\"/>\n",
       "<text font-family=\"Times,serif\" font-size=\"14.00\" text-anchor=\"middle\" x=\"163.58\" y=\"-88.3\">output:</text>\n",
       "<polyline fill=\"none\" points=\"191.414,-81.5 191.414,-125.5 \" stroke=\"black\"/>\n",
       "<text font-family=\"Times,serif\" font-size=\"14.00\" text-anchor=\"middle\" x=\"226.238\" y=\"-110.3\">(None, 4)</text>\n",
       "<polyline fill=\"none\" points=\"191.414,-103.5 261.062,-103.5 \" stroke=\"black\"/>\n",
       "<text font-family=\"Times,serif\" font-size=\"14.00\" text-anchor=\"middle\" x=\"226.238\" y=\"-88.3\">(None, 3)</text>\n",
       "</g>\n",
       "<!-- 4572592592&#45;&gt;4572594064 -->\n",
       "<g class=\"edge\" id=\"edge1\"><title>4572592592-&gt;4572594064</title>\n",
       "<path d=\"M146.278,-162.329C146.278,-154.183 146.278,-144.699 146.278,-135.797\" fill=\"none\" stroke=\"black\"/>\n",
       "<polygon fill=\"black\" points=\"149.778,-135.729 146.278,-125.729 142.778,-135.729 149.778,-135.729\" stroke=\"black\"/>\n",
       "</g>\n",
       "<!-- 4572592976 -->\n",
       "<g class=\"node\" id=\"node3\"><title>4572592976</title>\n",
       "<polygon fill=\"none\" points=\"8.15869,-0.5 8.15869,-44.5 284.397,-44.5 284.397,-0.5 8.15869,-0.5\" stroke=\"black\"/>\n",
       "<text font-family=\"Times,serif\" font-size=\"14.00\" text-anchor=\"middle\" x=\"83.6191\" y=\"-18.3\">activation_1: Activation</text>\n",
       "<polyline fill=\"none\" points=\"159.08,-0.5 159.08,-44.5 \" stroke=\"black\"/>\n",
       "<text font-family=\"Times,serif\" font-size=\"14.00\" text-anchor=\"middle\" x=\"186.914\" y=\"-29.3\">input:</text>\n",
       "<polyline fill=\"none\" points=\"159.08,-22.5 214.749,-22.5 \" stroke=\"black\"/>\n",
       "<text font-family=\"Times,serif\" font-size=\"14.00\" text-anchor=\"middle\" x=\"186.914\" y=\"-7.3\">output:</text>\n",
       "<polyline fill=\"none\" points=\"214.749,-0.5 214.749,-44.5 \" stroke=\"black\"/>\n",
       "<text font-family=\"Times,serif\" font-size=\"14.00\" text-anchor=\"middle\" x=\"249.573\" y=\"-29.3\">(None, 3)</text>\n",
       "<polyline fill=\"none\" points=\"214.749,-22.5 284.397,-22.5 \" stroke=\"black\"/>\n",
       "<text font-family=\"Times,serif\" font-size=\"14.00\" text-anchor=\"middle\" x=\"249.573\" y=\"-7.3\">(None, 3)</text>\n",
       "</g>\n",
       "<!-- 4572594064&#45;&gt;4572592976 -->\n",
       "<g class=\"edge\" id=\"edge2\"><title>4572594064-&gt;4572592976</title>\n",
       "<path d=\"M146.278,-81.3294C146.278,-73.1826 146.278,-63.6991 146.278,-54.7971\" fill=\"none\" stroke=\"black\"/>\n",
       "<polygon fill=\"black\" points=\"149.778,-54.729 146.278,-44.729 142.778,-54.729 149.778,-54.729\" stroke=\"black\"/>\n",
       "</g>\n",
       "</g>\n",
       "</svg>"
      ],
      "text/plain": [
       "<IPython.core.display.SVG object>"
      ]
     },
     "execution_count": 7,
     "metadata": {},
     "output_type": "execute_result"
    }
   ],
   "source": [
    "# output from previous layer --> input to the next layer \n",
    "SVG(model_to_dot(model,show_shapes=True).create(prog='dot',format='svg'))"
   ]
  },
  {
   "cell_type": "code",
   "execution_count": 8,
   "metadata": {
    "slideshow": {
     "slide_type": "slide"
    }
   },
   "outputs": [
    {
     "name": "stdout",
     "output_type": "stream",
     "text": [
      "Train on 100 samples, validate on 50 samples\n",
      "Epoch 1/10\n",
      "100/100 [==============================] - 0s - loss: 0.8112 - acc: 0.5800 - val_loss: 0.6458 - val_acc: 0.7000\n",
      "Epoch 2/10\n",
      "100/100 [==============================] - 0s - loss: 0.7418 - acc: 0.6500 - val_loss: 0.5713 - val_acc: 0.9000\n",
      "Epoch 3/10\n",
      "100/100 [==============================] - 0s - loss: 0.6129 - acc: 0.8600 - val_loss: 0.5917 - val_acc: 0.7200\n",
      "Epoch 4/10\n",
      "100/100 [==============================] - 0s - loss: 0.6171 - acc: 0.7300 - val_loss: 0.5141 - val_acc: 0.9800\n",
      "Epoch 5/10\n",
      "100/100 [==============================] - 0s - loss: 0.5505 - acc: 0.8700 - val_loss: 0.4939 - val_acc: 0.9200\n",
      "Epoch 6/10\n",
      "100/100 [==============================] - 0s - loss: 0.5309 - acc: 0.9600 - val_loss: 0.4627 - val_acc: 0.9200\n",
      "Epoch 7/10\n",
      "100/100 [==============================] - 0s - loss: 0.5095 - acc: 0.8300 - val_loss: 0.4592 - val_acc: 0.9000\n",
      "Epoch 8/10\n",
      "100/100 [==============================] - 0s - loss: 0.5020 - acc: 0.9500 - val_loss: 0.4439 - val_acc: 0.9000\n",
      "Epoch 9/10\n",
      "100/100 [==============================] - 0s - loss: 0.4829 - acc: 0.9200 - val_loss: 0.4232 - val_acc: 0.7800\n",
      "Epoch 10/10\n",
      "100/100 [==============================] - 0s - loss: 0.4886 - acc: 0.6900 - val_loss: 0.4359 - val_acc: 0.8400\n"
     ]
    },
    {
     "data": {
      "text/plain": [
       "<keras.callbacks.History at 0x111b094d0>"
      ]
     },
     "execution_count": 8,
     "metadata": {},
     "output_type": "execute_result"
    }
   ],
   "source": [
    "from keras.utils.np_utils import to_categorical\n",
    "from sklearn.model_selection import train_test_split\n",
    "\n",
    "y=to_categorical(y)\n",
    "\n",
    "X_train, X_test, y_train, y_test = train_test_split(X, y, test_size=0.33, random_state=42)\n",
    "\n",
    "sgd = SGD(lr=0.01, decay=1e-6, momentum=0.9, nesterov=True)\n",
    "model.compile(loss='categorical_crossentropy',optimizer=sgd,metrics=['accuracy'])\n",
    "model.fit(X_train,y_train,nb_epoch=10,validation_data=(X_test,y_test),batch_size=32)"
   ]
  },
  {
   "cell_type": "code",
   "execution_count": 9,
   "metadata": {
    "slideshow": {
     "slide_type": "slide"
    }
   },
   "outputs": [
    {
     "data": {
      "image/svg+xml": [
       "<svg height=\"215pt\" viewBox=\"0.00 0.00 300.56 215.00\" width=\"301pt\" xmlns=\"http://www.w3.org/2000/svg\" xmlns:xlink=\"http://www.w3.org/1999/xlink\">\n",
       "<g class=\"graph\" id=\"graph0\" transform=\"scale(1 1) rotate(0) translate(4 211)\">\n",
       "<title>G</title>\n",
       "<polygon fill=\"white\" points=\"-4,4 -4,-211 296.556,-211 296.556,4 -4,4\" stroke=\"none\"/>\n",
       "<!-- 4595205648 -->\n",
       "<g class=\"node\" id=\"node1\"><title>4595205648</title>\n",
       "<polygon fill=\"none\" points=\"0,-162.5 0,-206.5 292.556,-206.5 292.556,-162.5 0,-162.5\" stroke=\"black\"/>\n",
       "<text font-family=\"Times,serif\" font-size=\"14.00\" text-anchor=\"middle\" x=\"83.6191\" y=\"-180.3\">dense_input_2: InputLayer</text>\n",
       "<polyline fill=\"none\" points=\"167.238,-162.5 167.238,-206.5 \" stroke=\"black\"/>\n",
       "<text font-family=\"Times,serif\" font-size=\"14.00\" text-anchor=\"middle\" x=\"195.073\" y=\"-191.3\">input:</text>\n",
       "<polyline fill=\"none\" points=\"167.238,-184.5 222.907,-184.5 \" stroke=\"black\"/>\n",
       "<text font-family=\"Times,serif\" font-size=\"14.00\" text-anchor=\"middle\" x=\"195.073\" y=\"-169.3\">output:</text>\n",
       "<polyline fill=\"none\" points=\"222.907,-162.5 222.907,-206.5 \" stroke=\"black\"/>\n",
       "<text font-family=\"Times,serif\" font-size=\"14.00\" text-anchor=\"middle\" x=\"257.731\" y=\"-191.3\">(None, 4)</text>\n",
       "<polyline fill=\"none\" points=\"222.907,-184.5 292.556,-184.5 \" stroke=\"black\"/>\n",
       "<text font-family=\"Times,serif\" font-size=\"14.00\" text-anchor=\"middle\" x=\"257.731\" y=\"-169.3\">(None, 4)</text>\n",
       "</g>\n",
       "<!-- 4595205392 -->\n",
       "<g class=\"node\" id=\"node2\"><title>4595205392</title>\n",
       "<polygon fill=\"none\" points=\"31.4932,-81.5 31.4932,-125.5 261.062,-125.5 261.062,-81.5 31.4932,-81.5\" stroke=\"black\"/>\n",
       "<text font-family=\"Times,serif\" font-size=\"14.00\" text-anchor=\"middle\" x=\"83.6191\" y=\"-99.3\">dense_2: Dense</text>\n",
       "<polyline fill=\"none\" points=\"135.745,-81.5 135.745,-125.5 \" stroke=\"black\"/>\n",
       "<text font-family=\"Times,serif\" font-size=\"14.00\" text-anchor=\"middle\" x=\"163.58\" y=\"-110.3\">input:</text>\n",
       "<polyline fill=\"none\" points=\"135.745,-103.5 191.414,-103.5 \" stroke=\"black\"/>\n",
       "<text font-family=\"Times,serif\" font-size=\"14.00\" text-anchor=\"middle\" x=\"163.58\" y=\"-88.3\">output:</text>\n",
       "<polyline fill=\"none\" points=\"191.414,-81.5 191.414,-125.5 \" stroke=\"black\"/>\n",
       "<text font-family=\"Times,serif\" font-size=\"14.00\" text-anchor=\"middle\" x=\"226.238\" y=\"-110.3\">(None, 4)</text>\n",
       "<polyline fill=\"none\" points=\"191.414,-103.5 261.062,-103.5 \" stroke=\"black\"/>\n",
       "<text font-family=\"Times,serif\" font-size=\"14.00\" text-anchor=\"middle\" x=\"226.238\" y=\"-88.3\">(None, 3)</text>\n",
       "</g>\n",
       "<!-- 4595205648&#45;&gt;4595205392 -->\n",
       "<g class=\"edge\" id=\"edge1\"><title>4595205648-&gt;4595205392</title>\n",
       "<path d=\"M146.278,-162.329C146.278,-154.183 146.278,-144.699 146.278,-135.797\" fill=\"none\" stroke=\"black\"/>\n",
       "<polygon fill=\"black\" points=\"149.778,-135.729 146.278,-125.729 142.778,-135.729 149.778,-135.729\" stroke=\"black\"/>\n",
       "</g>\n",
       "<!-- 4595205520 -->\n",
       "<g class=\"node\" id=\"node3\"><title>4595205520</title>\n",
       "<polygon fill=\"none\" points=\"8.15869,-0.5 8.15869,-44.5 284.397,-44.5 284.397,-0.5 8.15869,-0.5\" stroke=\"black\"/>\n",
       "<text font-family=\"Times,serif\" font-size=\"14.00\" text-anchor=\"middle\" x=\"83.6191\" y=\"-18.3\">activation_2: Activation</text>\n",
       "<polyline fill=\"none\" points=\"159.08,-0.5 159.08,-44.5 \" stroke=\"black\"/>\n",
       "<text font-family=\"Times,serif\" font-size=\"14.00\" text-anchor=\"middle\" x=\"186.914\" y=\"-29.3\">input:</text>\n",
       "<polyline fill=\"none\" points=\"159.08,-22.5 214.749,-22.5 \" stroke=\"black\"/>\n",
       "<text font-family=\"Times,serif\" font-size=\"14.00\" text-anchor=\"middle\" x=\"186.914\" y=\"-7.3\">output:</text>\n",
       "<polyline fill=\"none\" points=\"214.749,-0.5 214.749,-44.5 \" stroke=\"black\"/>\n",
       "<text font-family=\"Times,serif\" font-size=\"14.00\" text-anchor=\"middle\" x=\"249.573\" y=\"-29.3\">(None, 3)</text>\n",
       "<polyline fill=\"none\" points=\"214.749,-22.5 284.397,-22.5 \" stroke=\"black\"/>\n",
       "<text font-family=\"Times,serif\" font-size=\"14.00\" text-anchor=\"middle\" x=\"249.573\" y=\"-7.3\">(None, 3)</text>\n",
       "</g>\n",
       "<!-- 4595205392&#45;&gt;4595205520 -->\n",
       "<g class=\"edge\" id=\"edge2\"><title>4595205392-&gt;4595205520</title>\n",
       "<path d=\"M146.278,-81.3294C146.278,-73.1826 146.278,-63.6991 146.278,-54.7971\" fill=\"none\" stroke=\"black\"/>\n",
       "<polygon fill=\"black\" points=\"149.778,-54.729 146.278,-44.729 142.778,-54.729 149.778,-54.729\" stroke=\"black\"/>\n",
       "</g>\n",
       "</g>\n",
       "</svg>"
      ],
      "text/plain": [
       "<IPython.core.display.SVG object>"
      ]
     },
     "execution_count": 9,
     "metadata": {},
     "output_type": "execute_result"
    }
   ],
   "source": [
    "# Again, what did we do ?\n",
    "\n",
    "model=Sequential()\n",
    "# output will be number of classes, and input will be # of features\n",
    "model.add(Dense(output_dim=3,input_dim=4))\n",
    "model.add(Activation(\"softmax\"))\n",
    "\n",
    "SVG(model_to_dot(model,show_shapes=True).create(prog='dot',format='svg'))"
   ]
  },
  {
   "cell_type": "code",
   "execution_count": 10,
   "metadata": {
    "collapsed": true,
    "slideshow": {
     "slide_type": "slide"
    }
   },
   "outputs": [],
   "source": [
    "# Let's build the model again.. \n",
    "\n",
    "model=Sequential()\n",
    "model.add(Dense(output_dim=64,input_dim=4))\n",
    "model.add(Activation(\"relu\"))\n",
    "model.add(Dense(output_dim=32))\n",
    "model.add(Activation(\"relu\"))\n",
    "model.add(Dense(output_dim=3))\n",
    "model.add(Activation(\"softmax\"))"
   ]
  },
  {
   "cell_type": "code",
   "execution_count": 11,
   "metadata": {
    "slideshow": {
     "slide_type": "slide"
    }
   },
   "outputs": [
    {
     "name": "stdout",
     "output_type": "stream",
     "text": [
      "Train on 100 samples, validate on 50 samples\n",
      "Epoch 1/10\n",
      "100/100 [==============================] - 0s - loss: 1.6446 - acc: 0.3400 - val_loss: 1.1870 - val_acc: 0.3200\n",
      "Epoch 2/10\n",
      "100/100 [==============================] - 0s - loss: 1.0819 - acc: 0.3000 - val_loss: 0.7880 - val_acc: 0.7000\n",
      "Epoch 3/10\n",
      "100/100 [==============================] - 0s - loss: 0.8199 - acc: 0.6100 - val_loss: 0.6959 - val_acc: 0.7000\n",
      "Epoch 4/10\n",
      "100/100 [==============================] - 0s - loss: 0.7034 - acc: 0.7600 - val_loss: 0.8422 - val_acc: 0.6800\n",
      "Epoch 5/10\n",
      "100/100 [==============================] - 0s - loss: 0.7657 - acc: 0.5900 - val_loss: 0.5462 - val_acc: 0.7000\n",
      "Epoch 6/10\n",
      "100/100 [==============================] - 0s - loss: 0.6023 - acc: 0.6300 - val_loss: 0.3986 - val_acc: 0.8600\n",
      "Epoch 7/10\n",
      "100/100 [==============================] - 0s - loss: 0.4317 - acc: 0.8700 - val_loss: 0.3400 - val_acc: 0.9800\n",
      "Epoch 8/10\n",
      "100/100 [==============================] - 0s - loss: 0.3724 - acc: 0.9600 - val_loss: 0.3064 - val_acc: 0.9600\n",
      "Epoch 9/10\n",
      "100/100 [==============================] - 0s - loss: 0.3703 - acc: 0.8900 - val_loss: 0.2971 - val_acc: 0.8800\n",
      "Epoch 10/10\n",
      "100/100 [==============================] - 0s - loss: 0.3447 - acc: 0.8900 - val_loss: 0.2560 - val_acc: 0.9000\n"
     ]
    },
    {
     "data": {
      "text/plain": [
       "<keras.callbacks.History at 0x1127ea4d0>"
      ]
     },
     "execution_count": 11,
     "metadata": {},
     "output_type": "execute_result"
    }
   ],
   "source": [
    "model.compile(loss='categorical_crossentropy',optimizer=sgd,metrics=['accuracy'])\n",
    "\n",
    "# adding early stopping \n",
    "my_callback=keras.callbacks.EarlyStopping(monitor='val_loss', min_delta=0, patience=2, verbose=0, mode='auto')\n",
    "model.fit(X_train,y_train,nb_epoch=10,validation_data=(X_test,y_test),batch_size=32,callbacks=[my_callback])"
   ]
  },
  {
   "cell_type": "markdown",
   "metadata": {
    "slideshow": {
     "slide_type": "slide"
    }
   },
   "source": [
    "###  What can be gained by making the network wider & deeper?   "
   ]
  },
  {
   "cell_type": "markdown",
   "metadata": {
    "collapsed": true,
    "slideshow": {
     "slide_type": "subslide"
    }
   },
   "source": [
    "\n",
    "###  What can be gained by making the network wider & deeper?   \n",
    "\n",
    " -  A sufficiently wide neural net can approximate any function (given enough training data)\n"
   ]
  },
  {
   "cell_type": "markdown",
   "metadata": {
    "slideshow": {
     "slide_type": "subslide"
    }
   },
   "source": [
    "###  What can be gained by making the network wider & deeper?   \n",
    "\n",
    " -  A sufficiently wide neural net can approximate any reasonable function (however.. )\n",
    " -  A deep network can be quite good at generalization"
   ]
  },
  {
   "cell_type": "markdown",
   "metadata": {
    "collapsed": true,
    "slideshow": {
     "slide_type": "slide"
    }
   },
   "source": [
    "##  And now,  CNN in Keras! \n"
   ]
  },
  {
   "cell_type": "markdown",
   "metadata": {
    "slideshow": {
     "slide_type": "slide"
    }
   },
   "source": [
    "#### Macroarchitecture of VGG16\n",
    "<img src='imgs/VGG.png'/>"
   ]
  },
  {
   "cell_type": "code",
   "execution_count": 12,
   "metadata": {
    "collapsed": true,
    "slideshow": {
     "slide_type": "slide"
    }
   },
   "outputs": [],
   "source": [
    "def VGG_16(weights_path=None):\n",
    "    model = Sequential()\n",
    "    model.add(ZeroPadding2D((1,1),input_shape=(3,224,224)))\n",
    "    model.add(Convolution2D(64, 3, 3, activation='relu'))\n",
    "    model.add(ZeroPadding2D((1,1)))\n",
    "    model.add(Convolution2D(64, 3, 3, activation='relu'))\n",
    "    model.add(MaxPooling2D((2,2), strides=(2,2)))\n",
    "\n",
    "    model.add(ZeroPadding2D((1,1)))\n",
    "    model.add(Convolution2D(128, 3, 3, activation='relu'))\n",
    "    model.add(ZeroPadding2D((1,1)))\n",
    "    model.add(Convolution2D(128, 3, 3, activation='relu'))\n",
    "    model.add(MaxPooling2D((2,2), strides=(2,2)))\n",
    "\n",
    "    model.add(ZeroPadding2D((1,1)))\n",
    "    model.add(Convolution2D(256, 3, 3, activation='relu'))\n",
    "    model.add(ZeroPadding2D((1,1)))\n",
    "    model.add(Convolution2D(256, 3, 3, activation='relu'))\n",
    "    model.add(ZeroPadding2D((1,1)))\n",
    "    model.add(Convolution2D(256, 3, 3, activation='relu'))\n",
    "    model.add(MaxPooling2D((2,2), strides=(2,2)))\n",
    "\n",
    "    model.add(ZeroPadding2D((1,1)))\n",
    "    model.add(Convolution2D(512, 3, 3, activation='relu'))\n",
    "    model.add(ZeroPadding2D((1,1)))\n",
    "    model.add(Convolution2D(512, 3, 3, activation='relu'))\n",
    "    model.add(ZeroPadding2D((1,1)))\n",
    "    model.add(Convolution2D(512, 3, 3, activation='relu'))\n",
    "    model.add(MaxPooling2D((2,2), strides=(2,2)))\n",
    "\n",
    "    model.add(ZeroPadding2D((1,1)))\n",
    "    model.add(Convolution2D(512, 3, 3, activation='relu'))\n",
    "    model.add(ZeroPadding2D((1,1)))\n",
    "    model.add(Convolution2D(512, 3, 3, activation='relu'))\n",
    "    model.add(ZeroPadding2D((1,1)))\n",
    "    model.add(Convolution2D(512, 3, 3, activation='relu'))\n",
    "    model.add(MaxPooling2D((2,2), strides=(2,2)))\n",
    "\n",
    "    model.add(Flatten())\n",
    "    model.add(Dense(4096, activation='relu'))\n",
    "    model.add(Dropout(0.5))\n",
    "    model.add(Dense(4096, activation='relu'))\n",
    "    model.add(Dropout(0.5))\n",
    "    model.add(Dense(1000, activation='softmax'))\n",
    "\n",
    "    if weights_path:\n",
    "        model.load_weights(weights_path)\n",
    "\n",
    "    return model"
   ]
  },
  {
   "cell_type": "code",
   "execution_count": 13,
   "metadata": {
    "slideshow": {
     "slide_type": "skip"
    }
   },
   "outputs": [
    {
     "name": "stdout",
     "output_type": "stream",
     "text": [
      "  % Total    % Received % Xferd  Average Speed   Time    Time     Time  Current\n",
      "                                 Dload  Upload   Total   Spent    Left  Speed\n",
      "100 31675  100 31675    0     0  17326      0  0:00:01  0:00:01 --:--:-- 17327\n"
     ]
    }
   ],
   "source": [
    "!curl https://raw.githubusercontent.com/torch/tutorials/master/7_imagenet_classification/synset_words.txt -o synset_words.txt"
   ]
  },
  {
   "cell_type": "code",
   "execution_count": 14,
   "metadata": {
    "collapsed": true,
    "slideshow": {
     "slide_type": "slide"
    }
   },
   "outputs": [],
   "source": [
    "model = VGG_16('/Users/julialintern/Downloads/vgg16_weights.h5')\n",
    "sgd = SGD(lr=0.1, decay=1e-6, momentum=0.9, nesterov=True)\n",
    "model.compile(optimizer=sgd, loss='categorical_crossentropy')"
   ]
  },
  {
   "cell_type": "code",
   "execution_count": 17,
   "metadata": {
    "collapsed": true
   },
   "outputs": [],
   "source": [
    "synset = pd.read_csv('synset_words.txt', skipinitialspace=True, names = ['synset', 'words'])"
   ]
  },
  {
   "cell_type": "code",
   "execution_count": 15,
   "metadata": {
    "collapsed": true,
    "slideshow": {
     "slide_type": "skip"
    }
   },
   "outputs": [],
   "source": [
    "def prepare_image(image_path):\n",
    "    im = cv2.resize(cv2.imread(image_path), (224, 224)).astype(np.float32)\n",
    "\n",
    "    im[:,:,0] -= 103.939\n",
    "    im[:,:,1] -= 116.779\n",
    "    im[:,:,2] -= 123.68\n",
    "    im = im.transpose((2,0,1))\n",
    "    im = np.expand_dims(im, axis=0)\n",
    "    return im"
   ]
  },
  {
   "cell_type": "markdown",
   "metadata": {
    "collapsed": true,
    "slideshow": {
     "slide_type": "slide"
    }
   },
   "source": [
    "<img src='imgs/sloth.jpg'/>"
   ]
  },
  {
   "cell_type": "code",
   "execution_count": 18,
   "metadata": {
    "slideshow": {
     "slide_type": "fragment"
    }
   },
   "outputs": [
    {
     "name": "stdout",
     "output_type": "stream",
     "text": [
      "968\n",
      "n07930864 cup\n"
     ]
    }
   ],
   "source": [
    "img = prepare_image('sloth.jpg')\n",
    "out = model.predict(img)\n",
    "y_pred = np.argmax(out)\n",
    "\n",
    "print y_pred\n",
    "print synset.loc[y_pred].synset"
   ]
  },
  {
   "cell_type": "markdown",
   "metadata": {
    "slideshow": {
     "slide_type": "slide"
    }
   },
   "source": [
    "## Recurrent Neural Nets\n"
   ]
  },
  {
   "cell_type": "markdown",
   "metadata": {
    "slideshow": {
     "slide_type": "slide"
    }
   },
   "source": [
    "\n",
    "\n",
    "<img src='imgs/fc_piece.png'/>\n",
    "<img src='imgs/rnn3.jpg'/>"
   ]
  },
  {
   "cell_type": "markdown",
   "metadata": {
    "slideshow": {
     "slide_type": "slide"
    }
   },
   "source": [
    "### LSTM  - Long Short Term Memory\n",
    "\n",
    "<img src='imgs/lstm_3_anno.png'/>\n",
    "<img src='imgs/lstm_eqn.png'/>"
   ]
  },
  {
   "cell_type": "code",
   "execution_count": 19,
   "metadata": {
    "slideshow": {
     "slide_type": "slide"
    }
   },
   "outputs": [
    {
     "name": "stdout",
     "output_type": "stream",
     "text": [
      "Total Characters:  375542\n",
      "Total Vocab:  50\n"
     ]
    }
   ],
   "source": [
    "# load text & convert to lower case..\n",
    "# You can load this from nltk_data/corpora\n",
    "my_file='shakespeare-caesar.txt'\n",
    "file_1='shakespeare-hamlet.txt'\n",
    "file_2='shakespeare-macbeth.txt'\n",
    "\n",
    "my_text=open(my_file).read()\n",
    "my_one=open(file_1).read()\n",
    "my_two=open(file_2).read()\n",
    "\n",
    "alls=my_text+my_one+my_two\n",
    "my_text=alls.lower()\n",
    "\n",
    "\n",
    "# TODO : redo in pandas\n",
    "#Create a mapping of unique Characters to integers\n",
    "chars = sorted(list(set(my_text)))\n",
    "char_to_int = dict((c, i) for i, c in enumerate(chars))\n",
    "int_to_char = dict((i, c) for i, c in enumerate(chars))\n",
    "\n",
    "\n",
    "n_chars = len(my_text)\n",
    "vocab = len(chars)\n",
    "\n",
    "print \"Total Characters: \", n_chars\n",
    "print \"Total Vocab: \", vocab\n",
    "# prepare the dataset of input to output pairs encoded as integers"
   ]
  },
  {
   "cell_type": "code",
   "execution_count": 26,
   "metadata": {
    "slideshow": {
     "slide_type": "fragment"
    }
   },
   "outputs": [
    {
     "name": "stdout",
     "output_type": "stream",
     "text": [
      "('nb sequences:', 125174)\n"
     ]
    }
   ],
   "source": [
    "# Developing our input & output: \n",
    "\n",
    "max_len = 20\n",
    "step = 3\n",
    "sentences = []\n",
    "next_chars = []\n",
    "for i in range(0, len(my_text) - max_len, step):\n",
    "    sentences.append(text[i: i + max_len])\n",
    "    next_chars.append(text[i + max_len])\n",
    "print('nb sequences:', len(sentences))"
   ]
  },
  {
   "cell_type": "code",
   "execution_count": 21,
   "metadata": {
    "slideshow": {
     "slide_type": "fragment"
    }
   },
   "outputs": [
    {
     "name": "stdout",
     "output_type": "stream",
     "text": [
      "Vectorization..\n"
     ]
    }
   ],
   "source": [
    "print('Vectorization..')\n",
    "X=np.zeros((len(sentences),max_len,vocab))\n",
    "y=np.zeros((len(sentences),vocab))\n",
    "\n",
    "for i, sentence in enumerate(sentences):\n",
    "    for t, char in enumerate(sentence):\n",
    "        X[i, t, char_to_int[char]] = 1\n",
    "    y[i, char_to_int[next_chars[i]]] = 1"
   ]
  },
  {
   "cell_type": "code",
   "execution_count": 22,
   "metadata": {
    "collapsed": true,
    "slideshow": {
     "slide_type": "skip"
    }
   },
   "outputs": [],
   "source": [
    "# use 'fast_compile' for more specific error traceback\n",
    "import theano\n",
    "theano.config.optimizer='fast_compile'"
   ]
  },
  {
   "cell_type": "code",
   "execution_count": 29,
   "metadata": {
    "slideshow": {
     "slide_type": "slide"
    }
   },
   "outputs": [
    {
     "name": "stdout",
     "output_type": "stream",
     "text": [
      "Epoch 1/10\n",
      "125174/125174 [==============================] - 122s - loss: 2.0816   \n",
      "Epoch 2/10\n",
      "125174/125174 [==============================] - 128s - loss: 1.7153   \n",
      "Epoch 3/10\n",
      "125174/125174 [==============================] - 127s - loss: 1.6100   \n",
      "Epoch 4/10\n",
      "125174/125174 [==============================] - 126s - loss: 1.5481   \n",
      "Epoch 5/10\n",
      "125174/125174 [==============================] - 127s - loss: 1.5078   \n",
      "Epoch 6/10\n",
      "125174/125174 [==============================] - 129s - loss: 1.4777   \n",
      "Epoch 7/10\n",
      "125174/125174 [==============================] - 130s - loss: 1.4521   \n",
      "Epoch 8/10\n",
      "125174/125174 [==============================] - 130s - loss: 1.4319   \n",
      "Epoch 9/10\n",
      "125174/125174 [==============================] - 128s - loss: 1.4113   \n",
      "Epoch 10/10\n",
      "125174/125174 [==============================] - 145s - loss: 1.4026   \n"
     ]
    }
   ],
   "source": [
    "# OUR MODEL;\n",
    "\n",
    "model=Sequential()\n",
    "\n",
    "model.add(LSTM(128,input_shape=(max_length, vocab)))\n",
    "model.add(Dense(len(chars)))\n",
    "model.add(Activation('softmax'))\n",
    "\n",
    "optimizer = RMSprop(lr=0.01)\n",
    "model.compile(loss='categorical_crossentropy', optimizer=optimizer)\n",
    "\n",
    "\n",
    "model.fit(X, y, batch_size=128, nb_epoch=10)\n",
    "\n",
    "model.save_weights('model_save.h5')\n"
   ]
  },
  {
   "cell_type": "code",
   "execution_count": 30,
   "metadata": {
    "collapsed": true,
    "slideshow": {
     "slide_type": "skip"
    }
   },
   "outputs": [],
   "source": [
    "\n",
    "def sample(preds, temperature=1.0):\n",
    "    # helper function to sample an index from a probability array\n",
    "    preds = np.asarray(preds).astype('float64')\n",
    "    preds = np.log(preds) / temperature\n",
    "    exp_preds = np.exp(preds)\n",
    "    preds = exp_preds / np.sum(exp_preds)\n",
    "    probas = np.random.multinomial(1, preds, 1)\n",
    "    return np.argmax(probas)"
   ]
  },
  {
   "cell_type": "code",
   "execution_count": 31,
   "metadata": {
    "slideshow": {
     "slide_type": "slide"
    }
   },
   "outputs": [
    {
     "name": "stdout",
     "output_type": "stream",
     "text": [
      "('----- diversity:', 0.2)\n",
      "----- Generating with seed: \"friends, romans, cou\"\n",
      "\n",
      "\n",
      "friends, romans, countrymen,\n",
      "and stand to the countrymen,\n",
      "and the sayes the part he beare the countrymen,\n",
      "and the perule man in the countrymen,\n",
      "and stand all the strange of the deed,\n",
      "and the peese and country\n",
      "\n",
      "   ham. why the play a hamber of the country\n",
      "a countronce in the countrymen,\n",
      "and the words of the countrymen,\n",
      "and the strange of the more a come to the countrymen,\n",
      "and in the more the country\n",
      "a hand of the coun\n",
      "\n",
      "\n",
      "\n",
      "('----- diversity:', 0.5)\n",
      "----- Generating with seed: \"friends, romans, cou\"\n",
      "\n",
      "\n",
      "friends, romans, countrymen,\n",
      "and but the streat a soule,\n",
      "i will see you speake, but what shall lead the conish deer'd to speakes walke, and by valius of all stand of flay:\n",
      "i haue do you stay the pointly steele,\n",
      "and the terre haue giuen,\n",
      "and still not for this bleade you liue him are how thou haue a most seene the calle,\n",
      "and stand might and burse that of the canglesse,\n",
      "all the sold come of my friend, and bleed in the \n",
      "\n",
      "\n",
      "\n",
      "('----- diversity:', 1.0)\n",
      "----- Generating with seed: \"friends, romans, cou\"\n",
      "\n",
      "\n",
      "friends, romans, could, th' euen on mee:\n",
      "thus, the vilias kilds,\n",
      "need iutimeting stand he lady,\n",
      "to kell come here desire? is the heauens marnculit, and cupers free of fure, macbeth times terce budane,\n",
      "destru'd, we preat poyell too, for the mo: as entlere: posoyss'sty albouryce no my father,\n",
      "\n",
      "  ancarw a giuens he alt:\n",
      "this's giue stayre? ane very sucting free; speake with then come fro in take\n",
      "om that strop'd to messe\n",
      "\n",
      "\n",
      "\n",
      "('----- diversity:', 1.2)\n",
      "----- Generating with seed: \"friends, romans, cou\"\n",
      "\n",
      "\n",
      "friends, romans, coulders:\n",
      "hamlet,\n",
      "to tree; dirrbe reeay\n",
      "lyeng,  ours, i had not, that pit,\n",
      "fare'l,\n",
      "'tis boy or o'ctiyro: he wilt, thee feeme for?\n",
      "  ham. this keaue?\n",
      "  kin. goodnamorr, ayre, thatke, that awa't\n",
      "as is noclet of there, sirs, need\n",
      "\n",
      "   eon. shatmins, god. octruilulion,\n",
      "rihing badne nor. let an while wiuers, begwind.\n",
      "enter.\n",
      "\n",
      "munees to nature.\n",
      "thou heere thussueth all notspoke,\n",
      "it doth was asaid, what lree \n",
      "\n",
      "\n",
      "\n"
     ]
    }
   ],
   "source": [
    "seed='Friends, Romans, countrymen, lend me your ears'\n",
    "# Subset of seed, because we need to maintain length of 20 as input\n",
    "true_seed=seed[:20].lower()\n",
    "\n",
    "\n",
    "\n",
    "# As we increase the 'temperature', we see that the text generation becomes less predictable\n",
    "for diversity in [0.2, 0.5, 1.0, 1.2]:\n",
    "    #print()\n",
    "    print('----- diversity:', diversity)\n",
    "\n",
    "    generated = ''\n",
    "    #sentence = my_text[start_index: start_index + max_length]\n",
    "    sentence= true_seed\n",
    "    generated += sentence\n",
    "    print('----- Generating with seed: \"' + sentence + '\"')\n",
    "    print('\\n')\n",
    "    \n",
    "    sys.stdout.write(generated)\n",
    "\n",
    "    for i in range(400):\n",
    "        x = np.zeros((1, max_length, len(chars)))\n",
    "        for t, char in enumerate(sentence):\n",
    "            x[0, t, char_to_int[char]] = 1.\n",
    "\n",
    "        preds = model.predict(x, verbose=0)[0]\n",
    "        next_index = sample(preds, diversity)\n",
    "        next_char = int_to_char[next_index]\n",
    "\n",
    "        generated += next_char\n",
    "        sentence = sentence[1:] + next_char\n",
    "\n",
    "        sys.stdout.write(next_char)\n",
    "        sys.stdout.flush()\n",
    "    print('\\n'*3)"
   ]
  },
  {
   "cell_type": "markdown",
   "metadata": {
    "slideshow": {
     "slide_type": "slide"
    }
   },
   "source": [
    "## Explorations  in Keras : Deep-Fashion\n",
    "<img src='imgs/deep_fashion.png'/>\n",
    "\n",
    "[DeepFashion: Powering Robust Clothes Recognition and Retrieval\n",
    "with Rich Annotations, Liu et al]('http://www.ee.cuhk.edu.hk/~xgwang/papers/liuLQWTcvpr16.pdf')"
   ]
  },
  {
   "cell_type": "code",
   "execution_count": null,
   "metadata": {
    "collapsed": true,
    "slideshow": {
     "slide_type": "slide"
    }
   },
   "outputs": [],
   "source": [
    "# Deep Fashion architecture - First Layer\n",
    "\n",
    "input_shape = (3,224,224)\n",
    "inputs = Input(shape=input_shape, name='inputs')\n",
    "x = Convolution2D(64, 3, 3, activation='relu', name='conv1_1')(inputs)\n",
    "x = ZeroPadding2D(padding=(1,1), name='pad1_1')(x)\n",
    "x = Convolution2D(64, 3, 3, activation='relu', name='conv1_2')(x)\n",
    "x = ZeroPadding2D(padding=(1,1), name='pad1_2')(x)\n",
    "x = MaxPooling2D(pool_size=(2,2), name='pool1')(x)\n",
    "\n",
    "x = Convolution2D(128, 3, 3, activation='relu', name='conv2_1')(x)\n",
    "x = ZeroPadding2D(padding=(1,1), name='pad2_1')(x)\n",
    "x = Convolution2D(128, 3, 3, activation='relu', name='conv2_2')(x)\n",
    "x = ZeroPadding2D(padding=(1,1), name='pad2_2')(x)\n",
    "x = MaxPooling2D(pool_size=(2,2), name='pool2')(x)\n",
    "\n",
    "x = Convolution2D(256, 3, 3, activation='relu', name='conv3_1')(x)\n",
    "x = ZeroPadding2D(padding=(1,1), name='pad3_1')(x)\n",
    "x = Convolution2D(256, 3, 3, activation='relu', name='conv3_2')(x)\n",
    "x = ZeroPadding2D(padding=(1,1), name='pad3_2')(x)\n",
    "\n",
    "x = Convolution2D(256, 3, 3, activation='relu', name='conv3_3')(x)\n",
    "x = ZeroPadding2D(padding=(1,1), name='pad3_3')(x)\n",
    "x = MaxPooling2D(pool_size=(2,2), name='pool3')(x)\n",
    "\n",
    "x = Convolution2D(512, 3, 3, activation='relu', name='conv4_1')(x)\n",
    "x = ZeroPadding2D(padding=(1,1), name='pad4_1')(x)\n",
    "x = Convolution2D(512, 3, 3, activation='relu', name='conv4_2')(x)\n",
    "x = ZeroPadding2D(padding=(1,1), name='pad4_2')(x)\n",
    "x = Convolution2D(512, 3, 3, activation='relu', name='conv4_3')(x)\n",
    "pad4_3 = ZeroPadding2D(padding=(1,1), name='pad4_3')(x)\n",
    "# pad4_3 -> conv5_local\n",
    "\n",
    "#  Blue Layer\n",
    "p = MaxPooling2D(pool_size=(2,2), name='pool4_pose')(pad4_3)\n",
    "p = Convolution2D(512, 3, 3, activation='relu', name='conv5_pose_1')(p)\n",
    "p = ZeroPadding2D(padding=(1,1), name='pad5_pose_1')(p)\n",
    "p = Convolution2D(512, 3, 3, activation='relu', name='conv5_pose_2')(p)\n",
    "p = ZeroPadding2D(padding=(1,1), name='pad5_pose_2')(p)\n",
    "p = Convolution2D(512, 3, 3, activation='relu', name='conv5_pose_3')(p)\n",
    "p = ZeroPadding2D(padding=(1,1), name='pad5_pose_3')(p)\n",
    "p = MaxPooling2D(pool_size=(2,2), name='pool5_pose')(p)\n",
    "p = Flatten()(p)\n",
    "p = Dense(1024, activation='relu', name='fc6_pose')(p)\n",
    "p = Dense(1024, activation='relu', name='fc7_pose')(p)\n",
    "\n",
    "# predict visibilities of each landmark, and then predict landmark locations (x1,y1) ..  ]\n",
    "vis1 = Dense(2, activation='softmax', name='visibility1')(p)\n",
    "vis2 = Dense(2, activation='softmax', name='visibility2')(p)\n",
    "vis3 = Dense(2, activation='softmax', name='visibility3')(p)\n",
    "vis4 = Dense(2, activation='softmax', name='visibility4')(p)\n",
    "lm=Dense(8,activation='linear',name='landmarks')(p)"
   ]
  },
  {
   "cell_type": "code",
   "execution_count": null,
   "metadata": {
    "collapsed": true,
    "slideshow": {
     "slide_type": "fragment"
    }
   },
   "outputs": [],
   "source": [
    "# Multiple model outputs: \n",
    "\n",
    "outputs=[vis1, vis2, vis3, vis4,lm]\n",
    "\n",
    "model = Model(input=inputs, output=outputs)"
   ]
  },
  {
   "cell_type": "code",
   "execution_count": 32,
   "metadata": {
    "collapsed": true,
    "slideshow": {
     "slide_type": "slide"
    }
   },
   "outputs": [],
   "source": [
    "def custom_objective(y_true, y_pred):\n",
    "    '''tailored cost function'''\n",
    "    \n",
    "    #get landmarks\n",
    "\n",
    "    pred_lm=y_pred[4]\n",
    "    true_lm=y_true[4]\n",
    "    \n",
    "    pred_lm=K.reshape(pred_lm,(4,2))\n",
    "    true_lm=K.reshape(true_lm,(4,2))\n",
    "    \n",
    "\n",
    "    true_viz=y_true[:4]\n",
    "    \n",
    "    # predict if visible or not, if not visible, set landmark loss to zero\n",
    "    wins=K.argmax(true_viz,axis=1)\n",
    "    \n",
    "    loss=K.mean(K.square(K.dot(wins,(pred_lm-true_lm))))  # \n",
    "    \n",
    "    return loss"
   ]
  },
  {
   "cell_type": "code",
   "execution_count": null,
   "metadata": {
    "slideshow": {
     "slide_type": "fragment"
    }
   },
   "outputs": [],
   "source": [
    "\n",
    "from keras.optimizers import SGD, Adam\n",
    "\n",
    "losses=['binary_crossentropy','binary_crossentropy','binary_crossentropy',\n",
    "        'binary_crossentropy',custom_objective]\n",
    "\n",
    "my_metrics=['recall',single_class_accuracy(0)]\n",
    "\n",
    "\n",
    "adam=Adam(lr=0.001, beta_1=0.9, beta_2=0.999, epsilon=1e-08, decay=0.0)\n",
    "\n",
    "model.compile(loss=losses,optimizer=adam,metrics=my_metrics)"
   ]
  },
  {
   "cell_type": "code",
   "execution_count": null,
   "metadata": {
    "collapsed": true,
    "slideshow": {
     "slide_type": "slide"
    }
   },
   "outputs": [],
   "source": [
    "filepath='weights.{epoch:02d}-{val_loss:.2f}.hdf5'\n",
    "mcp=keras.callbacks.ModelCheckpoint(filepath, monitor='val_loss', verbose=0, save_best_only=False, save_weights_only=False, mode='auto', period=1)\n",
    "callback=[mcp]\n",
    "\n",
    "cw={0 : 15.,1: 1.}\n",
    "test=model.fit_generator(train_flow_from_directory(train_generator, train_lab_1,train_lab_2,train_lab_3,train_lab_4,lm_train_labels),validation_data=test_fl$\n",
    "                         nb_epoch=20,samples_per_epoch=99600, nb_val_samples=19150,\n",
    "                         callbacks=callback,class_weight=cw)"
   ]
  },
  {
   "cell_type": "markdown",
   "metadata": {
    "slideshow": {
     "slide_type": "slide"
    }
   },
   "source": [
    "<img src='imgs/dress_two.png'/>"
   ]
  },
  {
   "cell_type": "markdown",
   "metadata": {
    "slideshow": {
     "slide_type": "slide"
    }
   },
   "source": [
    "####  A Different type of Style Transer !\n",
    "<img src='imgs/final_both.png'/>"
   ]
  },
  {
   "cell_type": "markdown",
   "metadata": {
    "slideshow": {
     "slide_type": "slide"
    }
   },
   "source": [
    "<img src='imgs/thanks.png'/>"
   ]
  },
  {
   "cell_type": "code",
   "execution_count": null,
   "metadata": {
    "collapsed": true,
    "slideshow": {
     "slide_type": "skip"
    }
   },
   "outputs": [],
   "source": []
  }
 ],
 "metadata": {
  "celltoolbar": "Slideshow",
  "kernelspec": {
   "display_name": "Python 2",
   "language": "python",
   "name": "python2"
  },
  "language_info": {
   "codemirror_mode": {
    "name": "ipython",
    "version": 2
   },
   "file_extension": ".py",
   "mimetype": "text/x-python",
   "name": "python",
   "nbconvert_exporter": "python",
   "pygments_lexer": "ipython2",
   "version": "2.7.12"
  }
 },
 "nbformat": 4,
 "nbformat_minor": 2
}
